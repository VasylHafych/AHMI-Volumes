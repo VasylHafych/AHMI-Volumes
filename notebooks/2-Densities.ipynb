{
 "cells": [
  {
   "cell_type": "code",
   "execution_count": 1,
   "metadata": {},
   "outputs": [],
   "source": [
    "# using Plots\n",
    "using Statistics\n",
    "using StatsBase \n",
    "using Distributions\n",
    "using LinearAlgebra\n",
    "using IntervalSets\n",
    "using Random \n",
    "using ArraysOfArrays\n",
    "using ValueShapes\n",
    "using Measurements\n",
    "using BAT \n",
    "\n",
    "using PyPlot"
   ]
  },
  {
   "cell_type": "markdown",
   "metadata": {},
   "source": [
    "# 1. Densities"
   ]
  },
  {
   "cell_type": "markdown",
   "metadata": {},
   "source": [
    "Activate the desired distribution:  "
   ]
  },
  {
   "cell_type": "markdown",
   "metadata": {},
   "source": [
    "## 1.1 Multivariate Normal Distribution:"
   ]
  },
  {
   "cell_type": "code",
   "execution_count": null,
   "metadata": {
    "jupyter": {
     "source_hidden": true
    }
   },
   "outputs": [],
   "source": [
    "# no correltions: \n",
    "\n",
    "n_dims = 5 \n",
    "σ = 1\n",
    "distribution = MvNormal(n_dims,σ)\n",
    "\n",
    "prior = NamedTupleDist(\n",
    "    x = repeat([-5.0 .. 5.0], n_dims),\n",
    ");"
   ]
  },
  {
   "cell_type": "code",
   "execution_count": 2,
   "metadata": {},
   "outputs": [],
   "source": [
    "Σ = [3.426818298733095 12.378238116671048 -9.632531611142456; \n",
    "    12.378238116671048 69.83909693165143 -43.478993858310886; \n",
    "    -9.632531611142456 -43.478993858310886 60.0626256206892]\n",
    "\n",
    "μ = [8.959570984309234, -9.021529871694005, -5.007789383392622]\n",
    "\n",
    "n_dims = 3 \n",
    "\n",
    "distribution = MvNormal(μ, Σ)\n",
    "\n",
    "prior = NamedTupleDist(\n",
    "    x = repeat([-50.0 .. 50.0], n_dims),\n",
    ");"
   ]
  },
  {
   "cell_type": "markdown",
   "metadata": {},
   "source": [
    "## 1.2 Gaussian Mixture Model (3D): "
   ]
  },
  {
   "cell_type": "code",
   "execution_count": null,
   "metadata": {
    "jupyter": {
     "source_hidden": true
    }
   },
   "outputs": [],
   "source": [
    "n_dims = 3 \n",
    "\n",
    "σ_1 = [3.426818298733095 12.378238116671048 -9.632531611142454; 3.426818298733095 4.916266580684483 -5.029942800849483; 3.426818298733095 -6.737309268887753 5.4343957706004415; 3.426818298733095 -3.9729587574454333 3.379361860370276]\n",
    "σ_2 = [12.378238116671048 69.83909693165143 -43.478993858310886; 4.916266580684482 69.83909693165143 -64.18784570966332; -6.737309268887753 69.83909693165143 32.734776615550174; -3.972958757445433 69.83909693165143 53.74871853095418]\n",
    "σ_3 = [-9.632531611142456 -43.478993858310886 60.0626256206892; -5.029942800849484 -64.18784570966332 60.0626256206892; 5.4343957706004415 32.734776615550174 60.0626256206892; 3.3793618603702757 53.74871853095418 60.0626256206892]\n",
    "σ = cat(σ_1,σ_2,σ_3, dims=3)\n",
    "\n",
    "μ = [8.959570984309234 -9.021529871694005 -5.007789383392622; -1.446445514344754 -7.8327010768703875 -3.2653263028963986; -6.40954093270941 0.25815094665222027 5.830143596540282; 5.076504517881521 -0.8952973253675331 9.16356325348496]\n",
    "\n",
    "distribution = MixtureModel(MvNormal[MvNormal(μ[i,:], Matrix(Hermitian(σ[i,:,:])) ) for i in 1:4]);\n",
    "\n",
    "prior = NamedTupleDist(\n",
    "    x = repeat([-50.0 .. 50.0], n_dims),\n",
    ");"
   ]
  },
  {
   "cell_type": "markdown",
   "metadata": {},
   "source": [
    "## 1.3 Funnel Distribution: "
   ]
  },
  {
   "cell_type": "code",
   "execution_count": null,
   "metadata": {
    "jupyter": {
     "source_hidden": true
    }
   },
   "outputs": [],
   "source": [
    "n_dims = 4\n",
    "\n",
    "distribution = BAT.GaussianShell(n=n_dims)\n",
    "\n",
    "prior = NamedTupleDist(\n",
    "    x = repeat([-50.0 .. 50.0], n_dims),\n",
    ");"
   ]
  },
  {
   "cell_type": "markdown",
   "metadata": {},
   "source": [
    "## 1.4 Caushy Distribution: "
   ]
  },
  {
   "cell_type": "code",
   "execution_count": null,
   "metadata": {
    "jupyter": {
     "source_hidden": true
    }
   },
   "outputs": [],
   "source": [
    "n_dims = 2\n",
    "\n",
    "distribution = BAT.MultimodalCauchy(n=n_dims);\n",
    "\n",
    "prior = NamedTupleDist(\n",
    "    x = repeat([-50.0 .. 50.0], n_dims),\n",
    ");"
   ]
  },
  {
   "cell_type": "markdown",
   "metadata": {},
   "source": [
    "## 1.5 Gaussian Shell: "
   ]
  },
  {
   "cell_type": "code",
   "execution_count": null,
   "metadata": {
    "jupyter": {
     "source_hidden": true
    }
   },
   "outputs": [],
   "source": [
    "n_dims = 2\n",
    "\n",
    "distribution = BAT.GaussianShell(n=n_dims);\n",
    "\n",
    "prior = NamedTupleDist(\n",
    "    x = repeat([-50.0 .. 50.0], n_dims),\n",
    ");"
   ]
  },
  {
   "cell_type": "markdown",
   "metadata": {},
   "source": [
    "# 2. Sampling"
   ]
  },
  {
   "cell_type": "code",
   "execution_count": 3,
   "metadata": {},
   "outputs": [],
   "source": [
    "log_likelihood = let dist = distribution\n",
    "    params -> begin\n",
    "        LogDVal(logpdf(dist, params.x))\n",
    "    end\n",
    "end\n",
    "\n",
    "posterior = PosteriorDensity(log_likelihood, prior);"
   ]
  },
  {
   "cell_type": "code",
   "execution_count": 4,
   "metadata": {},
   "outputs": [
    {
     "data": {
      "text/plain": [
       "500000"
      ]
     },
     "execution_count": 4,
     "metadata": {},
     "output_type": "execute_result"
    }
   ],
   "source": [
    "nsamples = 5*10^5"
   ]
  },
  {
   "cell_type": "code",
   "execution_count": 5,
   "metadata": {},
   "outputs": [
    {
     "name": "stderr",
     "output_type": "stream",
     "text": [
      "┌ Info: Initializing new RNG of type Random123.Philox4x{UInt64,10}\n",
      "└ @ BAT /Users/vhafych/MPP-Server/gitrepos/BAT.jl/src/algotypes/bat_default.jl:44\n",
      "┌ Info: Trying to generate 4 viable MCMC chain(s).\n",
      "└ @ BAT /Users/vhafych/MPP-Server/gitrepos/BAT.jl/src/samplers/mcmc/chain_pool_init.jl:63\n",
      "┌ Info: Selected 4 MCMC chain(s).\n",
      "└ @ BAT /Users/vhafych/MPP-Server/gitrepos/BAT.jl/src/samplers/mcmc/chain_pool_init.jl:185\n",
      "┌ Info: Begin tuning of 4 MCMC chain(s).\n",
      "└ @ BAT /Users/vhafych/MPP-Server/gitrepos/BAT.jl/src/samplers/mcmc/multi_cycle_burnin.jl:38\n",
      "┌ Info: MCMC Tuning cycle 1 finished, 4 chains, 0 tuned, 0 converged.\n",
      "└ @ BAT /Users/vhafych/MPP-Server/gitrepos/BAT.jl/src/samplers/mcmc/multi_cycle_burnin.jl:70\n",
      "┌ Info: MCMC Tuning cycle 2 finished, 4 chains, 4 tuned, 4 converged.\n",
      "└ @ BAT /Users/vhafych/MPP-Server/gitrepos/BAT.jl/src/samplers/mcmc/multi_cycle_burnin.jl:70\n",
      "┌ Info: MCMC tuning of 4 chains successful after 2 cycle(s).\n",
      "└ @ BAT /Users/vhafych/MPP-Server/gitrepos/BAT.jl/src/samplers/mcmc/multi_cycle_burnin.jl:76\n"
     ]
    }
   ],
   "source": [
    "samples = bat_sample(\n",
    "    posterior, \n",
    "    nsamples, MCMCSampling(sampler = MetropolisHastings(), nchains = 4)\n",
    ").result;"
   ]
  },
  {
   "cell_type": "code",
   "execution_count": null,
   "metadata": {},
   "outputs": [],
   "source": [
    "# plot(samples)"
   ]
  },
  {
   "cell_type": "markdown",
   "metadata": {},
   "source": [
    "# 3. Integration"
   ]
  },
  {
   "cell_type": "code",
   "execution_count": 6,
   "metadata": {},
   "outputs": [
    {
     "name": "stderr",
     "output_type": "stream",
     "text": [
      "┌ Info: Initializing new RNG of type Random123.Philox4x{UInt64,10}\n",
      "└ @ BAT /Users/vhafych/MPP-Server/gitrepos/BAT.jl/src/algotypes/bat_default.jl:44\n",
      "┌ Info: Using sampling algorithm OrderedResampling()\n",
      "└ @ BAT /Users/vhafych/MPP-Server/gitrepos/BAT.jl/src/algotypes/bat_default.jl:44\n"
     ]
    }
   ],
   "source": [
    "# Convert MCMC samples in a flat vector: \n",
    "\n",
    "samples_resampled = bat_sample(samples, 10^3).result # replace with effective sample size\n",
    "\n",
    "samples_flat = collect(flatview(unshaped.(samples_resampled.v)));"
   ]
  },
  {
   "cell_type": "markdown",
   "metadata": {},
   "source": [
    "## 3.1 Whitening: "
   ]
  },
  {
   "cell_type": "code",
   "execution_count": 7,
   "metadata": {},
   "outputs": [],
   "source": [
    "using MultivariateStats"
   ]
  },
  {
   "cell_type": "code",
   "execution_count": 8,
   "metadata": {},
   "outputs": [
    {
     "data": {
      "text/plain": [
       "3×1072 Array{Float64,2}:\n",
       "  0.659043  -0.894612   0.684919  …   1.09747   -1.34429   -1.22421\n",
       " -1.15773   -0.473122  -0.835993     -0.280959  -0.190168   0.458474\n",
       "  0.588796  -0.932956  -0.465197      0.709518  -0.43067    0.834263"
      ]
     },
     "execution_count": 8,
     "metadata": {},
     "output_type": "execute_result"
    }
   ],
   "source": [
    "WT = fit(Whitening, samples_flat)\n",
    "\n",
    "samples_whittened = transform(WT, samples_flat)"
   ]
  },
  {
   "cell_type": "code",
   "execution_count": 10,
   "metadata": {},
   "outputs": [
    {
     "data": {
      "image/png": "[encoded data removed]",
      "text/plain": [
       "Figure(PyObject <Figure size 500x500 with 1 Axes>)"
      ]
     },
     "metadata": {},
     "output_type": "display_data"
    },
    {
     "data": {
      "text/plain": [
       "PyObject Text(24.000000000000007, 0.5, 'Param 2')"
      ]
     },
     "execution_count": 10,
     "metadata": {},
     "output_type": "execute_result"
    }
   ],
   "source": [
    "fig, ax = subplots(1,1, figsize=(5,5))\n",
    "\n",
    "ax.scatter(samples_whittened[1,:], samples_whittened[2,:], label=\"Whittened\")\n",
    "ax.scatter(samples_flat[1,:], samples_flat[2,:], label=\"Original\")\n",
    "ax.legend()\n",
    "\n",
    "ax.set_xlabel(\"Param 1\")\n",
    "ax.set_ylabel(\"Param 2\")"
   ]
  },
  {
   "cell_type": "code",
   "execution_count": 18,
   "metadata": {},
   "outputs": [
    {
     "data": {
      "image/png": "[encoded data removed]",
      "text/plain": [
       "Figure(PyObject <Figure size 400x800 with 2 Axes>)"
      ]
     },
     "metadata": {},
     "output_type": "display_data"
    },
    {
     "data": {
      "text/plain": [
       "PyObject <matplotlib.image.AxesImage object at 0x7fdcf590c520>"
      ]
     },
     "execution_count": 18,
     "metadata": {},
     "output_type": "execute_result"
    }
   ],
   "source": [
    "fig, ax = subplots(1,2, figsize=(4,8))\n",
    "\n",
    "ax[1].imshow(cov(samples_whittened'))\n",
    "ax[2].imshow(cov(samples_flat'))"
   ]
  },
  {
   "cell_type": "code",
   "execution_count": null,
   "metadata": {},
   "outputs": [],
   "source": []
  },
  {
   "cell_type": "markdown",
   "metadata": {},
   "source": [
    "***\n",
    "\n",
    "### Algorithm Overview: \n",
    "\n",
    "1. Get samples (MCMC samples with frequency weights, resampled samples with unitary weights)\n",
    "2. Whiten samples\n",
    "3. Run k-means to cluster points (n clusters depends on problem dmension)\n",
    "4. Initialize centers of hypervolumes at the center of each cluster \n",
    "5. The initial size of s hypervolume is a standard deviation of samples at each cluster.\n",
    "6. Trim boundaries of clusters to adjust log. likelihood ratio.\n",
    "7. Compute harmonic mean estimate (HME) for each hypervolume and combine the final estimator. \n",
    "\n",
    "### Integration volumes to be considered: \n",
    "\n",
    "1. Hyperspheres. \n",
    "2. Spherical shells. "
   ]
  },
  {
   "cell_type": "code",
   "execution_count": null,
   "metadata": {},
   "outputs": [],
   "source": []
  }
 ],
 "metadata": {
  "kernelspec": {
   "display_name": "Julia 1.5.0",
   "language": "julia",
   "name": "julia-1.5"
  },
  "language_info": {
   "file_extension": ".jl",
   "mimetype": "application/julia",
   "name": "julia",
   "version": "1.5.0"
  }
 },
 "nbformat": 4,
 "nbformat_minor": 4
}
