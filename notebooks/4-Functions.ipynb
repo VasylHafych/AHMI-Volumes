{
 "cells": [
  {
   "cell_type": "code",
   "execution_count": 1,
   "metadata": {},
   "outputs": [],
   "source": [
    "using Statistics\n",
    "using StatsBase \n",
    "using Distributions\n",
    "using LinearAlgebra\n",
    "using IntervalSets\n",
    "using Random \n",
    "using ArraysOfArrays\n",
    "using ValueShapes\n",
    "using Measurements\n",
    "using BAT \n",
    "using MultivariateStats\n",
    "using Clustering\n",
    "using PyPlot"
   ]
  },
  {
   "cell_type": "markdown",
   "metadata": {},
   "source": [
    "# PDF:"
   ]
  },
  {
   "cell_type": "code",
   "execution_count": 2,
   "metadata": {},
   "outputs": [],
   "source": [
    "Σ = [3.426818298733095 12.378238116671048 -9.632531611142456; \n",
    "    12.378238116671048 69.83909693165143 -43.478993858310886; \n",
    "    -9.632531611142456 -43.478993858310886 60.0626256206892]\n",
    "\n",
    "μ = [8.959570984309234, -9.021529871694005, -5.007789383392622]\n",
    "\n",
    "n_dims = 3 \n",
    "\n",
    "distribution = MvNormal(μ, Σ)\n",
    "\n",
    "prior = NamedTupleDist(\n",
    "    x = repeat([-50.0 .. 50.0], n_dims),\n",
    ");"
   ]
  },
  {
   "cell_type": "code",
   "execution_count": 3,
   "metadata": {},
   "outputs": [],
   "source": [
    "log_likelihood = let dist = distribution\n",
    "    params -> begin\n",
    "        LogDVal(logpdf(dist, params.x))\n",
    "    end\n",
    "end\n",
    "\n",
    "posterior = PosteriorDensity(log_likelihood, prior);"
   ]
  },
  {
   "cell_type": "code",
   "execution_count": 48,
   "metadata": {},
   "outputs": [
    {
     "name": "stderr",
     "output_type": "stream",
     "text": [
      "┌ Info: Initializing new RNG of type Random123.Philox4x{UInt64,10}\n",
      "└ @ BAT /Users/vhafych/MPP-Server/gitrepos/BAT.jl/src/algotypes/bat_default.jl:44\n"
     ]
    }
   ],
   "source": [
    "nsamples = 3*10^5\n",
    "\n",
    "# samples = bat_sample(\n",
    "#     posterior, \n",
    "#     nsamples, MCMCSampling(sampler = MetropolisHastings(), nchains = 4)\n",
    "# ).result; # MCMCSampling(sampler = MetropolisHastings(), nchains = 4)\n",
    "\n",
    "samples = bat_sample(\n",
    "    distribution, \n",
    "    nsamples, IIDSampling()).result; "
   ]
  },
  {
   "cell_type": "code",
   "execution_count": 49,
   "metadata": {},
   "outputs": [
    {
     "name": "stderr",
     "output_type": "stream",
     "text": [
      "┌ Info: Using integration algorithm AHMIntegration{CholeskyPartialWhitening,GeyerAutocorLen}\n",
      "│   whitening: CholeskyPartialWhitening CholeskyPartialWhitening()\n",
      "│   autocorlen: GeyerAutocorLen GeyerAutocorLen()\n",
      "│   volumetype: Symbol HyperRectangle\n",
      "│   max_startingIDs: Int64 10000\n",
      "│   max_startingIDs_fraction: Float64 2.5\n",
      "│   rect_increase: Float64 0.1\n",
      "│   warning_minstartingids: Int64 16\n",
      "│   dotrimming: Bool true\n",
      "│   uncertainty: Array{Symbol}((1,))\n",
      "└ @ BAT /Users/vhafych/MPP-Server/gitrepos/BAT.jl/src/algotypes/bat_default.jl:44\n",
      "┌ Info: Harmonic Mean Integration started. Samples in dataset 1 / 2: \t150000 / 149999\tParameters:\t3\n",
      "└ @ BAT /Users/vhafych/MPP-Server/gitrepos/BAT.jl/src/integration/ahmi/harmonic_mean_integration.jl:93\n",
      "┌ Info: Data Whitening.\n",
      "└ @ BAT /Users/vhafych/MPP-Server/gitrepos/BAT.jl/src/integration/ahmi/harmonic_mean_integration.jl:108\n",
      "┌ Info: Apply Whitening Transformation to Data Set 2\n",
      "└ @ BAT /Users/vhafych/MPP-Server/gitrepos/BAT.jl/src/integration/ahmi/harmonic_mean_integration.jl:117\n",
      "┌ Info: Create Space Partitioning Tree\n",
      "└ @ BAT /Users/vhafych/MPP-Server/gitrepos/BAT.jl/src/integration/ahmi/harmonic_mean_integration.jl:129\n",
      "\u001b[32mProgress: 100%|█████████████████████████████████████████| Time: 0:00:00\u001b[39m\n",
      "┌ Info: Determine Hyperrectangle Starting Samples\n",
      "└ @ BAT /Users/vhafych/MPP-Server/gitrepos/BAT.jl/src/integration/ahmi/harmonic_mean_integration.jl:145\n",
      "┌ Warning: Returned minimum number of starting points: 16\n",
      "└ @ BAT /Users/vhafych/MPP-Server/gitrepos/BAT.jl/src/integration/ahmi/hyper_rectangle.jl:104\n",
      "┌ Warning: Returned minimum number of starting points: 16\n",
      "└ @ BAT /Users/vhafych/MPP-Server/gitrepos/BAT.jl/src/integration/ahmi/hyper_rectangle.jl:104\n",
      "┌ Info: Determine Tolerances for Hyperrectangle Creation\n",
      "└ @ BAT /Users/vhafych/MPP-Server/gitrepos/BAT.jl/src/integration/ahmi/harmonic_mean_integration.jl:165\n",
      "┌ Info: Create 33 Hyperrectangles using 8 thread(s)\n",
      "└ @ BAT /Users/vhafych/MPP-Server/gitrepos/BAT.jl/src/integration/ahmi/hm_integration_rectangle.jl:9\n",
      "\u001b[32mProgress: 100%|█████████████████████████████████████████| Time: 0:00:00\u001b[39m\n",
      "┌ Info: Updating 33 Hyperrectangles using 8 thread(s)\n",
      "└ @ BAT /Users/vhafych/MPP-Server/gitrepos/BAT.jl/src/integration/ahmi/hm_integration_rectangle.jl:27\n",
      "┌ Info: Integrating 33 Hyperrectangles\n",
      "└ @ BAT /Users/vhafych/MPP-Server/gitrepos/BAT.jl/src/integration/ahmi/harmonic_mean_integration.jl:383\n",
      "┌ Info: Estimating Uncertainty (cov_weighted)\n",
      "└ @ BAT /Users/vhafych/MPP-Server/gitrepos/BAT.jl/src/integration/ahmi/harmonic_mean_integration.jl:59\n"
     ]
    },
    {
     "data": {
      "text/latex": [
       "$0.0024 \\pm 0.0025$"
      ],
      "text/plain": [
       "0.0024 ± 0.0025"
      ]
     },
     "execution_count": 49,
     "metadata": {},
     "output_type": "execute_result"
    }
   ],
   "source": [
    "i_ahmi = log(bat_integrate(samples).result)"
   ]
  },
  {
   "cell_type": "markdown",
   "metadata": {},
   "source": [
    "## Functions: "
   ]
  },
  {
   "cell_type": "code",
   "execution_count": 100,
   "metadata": {},
   "outputs": [
    {
     "data": {
      "text/plain": [
       "compute_hm (generic function with 1 method)"
      ]
     },
     "execution_count": 100,
     "metadata": {},
     "output_type": "execute_result"
    }
   ],
   "source": [
    "function find_steep_edges(smpl::AbstractArray, w::AbstractArray; α=0.01)\n",
    "    hist_weights = fit(Histogram, smpl, weights(w), nbins=100).weights\n",
    "    max_weight = maximum(hist_weights)\n",
    "    if hist_weights[1] < α*max_weight && hist_weights[end] < α*max_weight\n",
    "        return false\n",
    "    else\n",
    "        return true\n",
    "    end\n",
    "end\n",
    "\n",
    "\n",
    "function find_whiten_trans(smpl::AbstractArray, w::AbstractArray; edges=zeros(Bool, size(smpl)[1]))\n",
    "      \n",
    "    cov_m = cov(smpl .- mean(smpl, dims=2), FrequencyWeights(w), 2)\n",
    "    \n",
    "    for (ind, edge) in enumerate(edges)\n",
    "        if edge \n",
    "            tmp_vals = cov_m[ind,ind]\n",
    "            cov_m[:,ind] .= 0.0\n",
    "            cov_m[ind,:] .= 0.0\n",
    "            cov_m[ind,ind] = tmp_vals\n",
    "        end\n",
    "    end\n",
    "    \n",
    "    L = eigvals(cov_m)\n",
    "    E = eigvecs(cov_m)\n",
    "    W = E'\n",
    "    W = W ./ sqrt.(L .+ 1e-4)\n",
    "    \n",
    "    return(W = W,)\n",
    "    \n",
    "end\n",
    "\n",
    "function apply_whiten_trans(smpl::AbstractArray, W::AbstractMatrix)\n",
    "    return W*(smpl .- mean(smpl, dims=2))\n",
    "end\n",
    "\n",
    "function apply_clustering(smpl::AbstractArray, w::AbstractArray, n_clusters::Integer)\n",
    "    return kmeans(smpl, n_clusters, weights=w)\n",
    "end\n",
    "\n",
    "function find_volume(smpl::AbstractArray, w::AbstractArray, ll::AbstractArray, clust_center::AbstractArray)\n",
    "    size_cube = 1.\n",
    "    vol = (2*size_cube)^size(smpl)[1]\n",
    "    mask = prod(-size_cube .< smpl .< size_cube, dims=1 )[1,:]\n",
    "    return(mask = mask, vol = vol)\n",
    "end\n",
    "\n",
    "function compute_hm(smpl::AbstractArray, w::AbstractArray, ll::AbstractArray, mask::AbstractArray, vol::AbstractFloat, det1::AbstractFloat, det2::AbstractFloat)\n",
    "    r = sum(w[mask]) / sum(w) \n",
    "    x = mean(1 ./ exp.(ll[mask]), weights(w[mask]))\n",
    "    i_r = vol / (x*det1*det2)\n",
    "    \n",
    "    return  i_r / r\n",
    "end"
   ]
  },
  {
   "cell_type": "code",
   "execution_count": 111,
   "metadata": {},
   "outputs": [],
   "source": [
    "smpl_v = collect(flatview(unshaped.(samples.v)))\n",
    "smpl_w = samples.weight\n",
    "\n",
    "log_d_minimum = minimum(samples.logd )\n",
    "smpl_ld = samples.logd # .- log_d_minimum # subtract constant pedestal;"
   ]
  },
  {
   "cell_type": "code",
   "execution_count": 112,
   "metadata": {},
   "outputs": [],
   "source": [
    "steep_edges = [find_steep_edges(row, smpl_w) for row in eachrow(smpl_v)]\n",
    "whiten_trans_init = find_whiten_trans(smpl_v, smpl_w, edges=steep_edges).W\n",
    "smpl_v = apply_whiten_trans(smpl_v, whiten_trans_init)\n",
    "\n",
    "integral_estimates = Float64[]\n",
    "\n",
    "n_clusters = 2\n",
    "\n",
    "clusters = apply_clustering(smpl_v, smpl_w, n_clusters)\n",
    "\n",
    "for clust_ind in 1:n_clusters\n",
    "    mask_cluster = clusters.assignments .== clust_ind\n",
    "    whiten_trans_tmp = find_whiten_trans(smpl_v[:,mask_cluster], smpl_w[mask_cluster], edges=steep_edges).W\n",
    "    smpl_tmp = apply_whiten_trans(smpl_v, whiten_trans_tmp)\n",
    "\n",
    "    cluster_center = whiten_trans_tmp * clusters.centers[:,clust_ind]\n",
    "    mask_volume, volume = find_volume(smpl_tmp[:,mask_cluster], smpl_w[mask_cluster], smpl_ld[mask_cluster], cluster_center)\n",
    "    \n",
    "#     mask_cluster_t = deepcopy(mask_cluster)\n",
    "    mask_cluster[mask_cluster .== 1] .= mask_volume\n",
    "#     hm_estimate = compute_hm(smpl_tmp, smpl_w, smpl_ld, mask_cluster, volume, abs(det(whiten_trans_init)), abs(det(whiten_trans_tmp)))\n",
    "     hm_estimate = compute_hm(smpl_tmp, smpl_w, smpl_ld, mask_cluster, volume, abs(det(whiten_trans_tmp*whiten_trans_init)), 1.0)\n",
    "    \n",
    "    hm_estimate = log(hm_estimate) #+ log_d_minimum\n",
    "    push!(integral_estimates, hm_estimate)\n",
    "end\n",
    "\n"
   ]
  },
  {
   "cell_type": "code",
   "execution_count": 113,
   "metadata": {},
   "outputs": [
    {
     "data": {
      "text/plain": [
       "2-element Array{Float64,1}:\n",
       " 0.6964348500550176\n",
       " 0.6940299610541482"
      ]
     },
     "execution_count": 113,
     "metadata": {},
     "output_type": "execute_result"
    }
   ],
   "source": [
    "integral_estimates"
   ]
  },
  {
   "cell_type": "code",
   "execution_count": 114,
   "metadata": {},
   "outputs": [
    {
     "data": {
      "image/png": "[encoded data removed]",
      "text/plain": [
       "Figure(PyObject <Figure size 700x500 with 1 Axes>)"
      ]
     },
     "metadata": {},
     "output_type": "display_data"
    },
    {
     "data": {
      "text/plain": [
       "PyObject <matplotlib.lines.Line2D object at 0x7fcf524faf40>"
      ]
     },
     "execution_count": 114,
     "metadata": {},
     "output_type": "execute_result"
    }
   ],
   "source": [
    "fig, ax = plt.subplots(1,1, figsize=(7,5))\n",
    "\n",
    "ax.plot(integral_estimates, \"x\")\n",
    "ax.axhline([i_ahmi.val])"
   ]
  },
  {
   "cell_type": "code",
   "execution_count": null,
   "metadata": {},
   "outputs": [],
   "source": []
  },
  {
   "cell_type": "code",
   "execution_count": null,
   "metadata": {},
   "outputs": [],
   "source": []
  }
 ],
 "metadata": {
  "kernelspec": {
   "display_name": "Julia 1.5.0",
   "language": "julia",
   "name": "julia-1.5"
  },
  "language_info": {
   "file_extension": ".jl",
   "mimetype": "application/julia",
   "name": "julia",
   "version": "1.5.0"
  }
 },
 "nbformat": 4,
 "nbformat_minor": 4
}
